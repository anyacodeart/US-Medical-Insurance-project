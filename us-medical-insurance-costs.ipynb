{
 "cells": [
  {
   "cell_type": "markdown",
   "metadata": {},
   "source": [
    "# U.S. Medical Insurance Costs\n",
    "\n",
    "Goal: \n",
    "Determine trends of insurance cost and ways to optimize the cost for an individual\n",
    "\n",
    "Analysis:\n",
    "* Find out the average age of the patients in the dataset\n",
    "* Find out if we have equal sex representation in data set\n",
    "* Look at the different costs between smokers vs. non-smokers.\n",
    "\n",
    "* Figure out the effect of region on cost of insurance\n",
    "\n",
    "* Figure out what the average age is for someone who has at least one child in this dataset.\n",
    "* Figure out what’s the average BMI\n",
    "* Figure out what the average bmi is for someone who has at least one child in this dataset vs someone who has no children\n"
   ]
  },
  {
   "cell_type": "code",
   "execution_count": 46,
   "metadata": {},
   "outputs": [],
   "source": [
    "import csv\n",
    "import matplotlib.pyplot as plt\n",
    "\n"
   ]
  },
  {
   "cell_type": "code",
   "execution_count": 38,
   "metadata": {},
   "outputs": [],
   "source": [
    "with open('insurance.csv') as insurance_datafile:\n",
    "    filereader = csv.DictReader(insurance_datafile)\n",
    "    age_data_set = []\n",
    "    sex_data_set = []\n",
    "    bmi_data_set = []\n",
    "    child_data_set = []\n",
    "    smoke_data_set = []\n",
    "    reg_data_set = []\n",
    "    cost_data_set = []\n",
    "    for row in filereader:\n",
    "        age_data_set.append(row['age'])\n",
    "        sex_data_set.append(row['sex'])\n",
    "        bmi_data_set.append(row['bmi'])\n",
    "        child_data_set.append(row['children'])\n",
    "        smoke_data_set.append(row['smoker'])\n",
    "        reg_data_set.append(row['region'])\n",
    "        cost_data_set.append(row['charges'])\n",
    "\n",
    "\n",
    "        "
   ]
  },
  {
   "cell_type": "markdown",
   "metadata": {},
   "source": [
    "Function that will determine the average value in numeric dataset:\n"
   ]
  },
  {
   "cell_type": "code",
   "execution_count": 90,
   "metadata": {},
   "outputs": [],
   "source": [
    "def average_func(data_set):\n",
    "    len_data_set = len(data_set)\n",
    "    total_set = 0\n",
    "    for x in data_set:\n",
    "        total_set += float(x)\n",
    "    return(total_set/len_data_set)"
   ]
  },
  {
   "cell_type": "code",
   "execution_count": 91,
   "metadata": {},
   "outputs": [
    {
     "data": {
      "text/plain": [
       "39.20702541106129"
      ]
     },
     "execution_count": 91,
     "metadata": {},
     "output_type": "execute_result"
    }
   ],
   "source": [
    "average_func(age_data_set)"
   ]
  },
  {
   "cell_type": "markdown",
   "metadata": {},
   "source": [
    "The avearage age of the patients in the dataset is 39 years old. "
   ]
  },
  {
   "cell_type": "code",
   "execution_count": 70,
   "metadata": {},
   "outputs": [
    {
     "name": "stdout",
     "output_type": "stream",
     "text": [
      "662\n",
      "676\n"
     ]
    }
   ],
   "source": [
    "fem_count = 0\n",
    "mal_count = 0\n",
    "for item in sex_data_set:\n",
    "    if item =='female': fem_count += 1\n",
    "    else: mal_count += 1  \n",
    "print(fem_count)\n",
    "print(mal_count)\n"
   ]
  },
  {
   "cell_type": "code",
   "execution_count": 67,
   "metadata": {
    "scrolled": true
   },
   "outputs": [
    {
     "data": {
      "image/png": "[encoded data removed]",
      "text/plain": [
       "<Figure size 640x480 with 1 Axes>"
      ]
     },
     "metadata": {},
     "output_type": "display_data"
    }
   ],
   "source": [
    "labels = 'Female', 'Male'\n",
    "sizes = [662, 676]\n",
    "explode = (0, 0.1)\n",
    "fig1,ax1 = plt.subplots()\n",
    "ax1.pie(sizes, explode=explode, labels=labels, autopct='%1.1f%%',\n",
    "        shadow=True, startangle=90)\n",
    "ax1.axis('equal')  # Equal aspect ratio ensures that pie is drawn as a circle.\n",
    "\n",
    "plt.show()\n"
   ]
  },
  {
   "cell_type": "markdown",
   "metadata": {},
   "source": [
    "We have an equal representation of male and female  in our data set. "
   ]
  },
  {
   "cell_type": "markdown",
   "metadata": {},
   "source": [
    "We would now explore  smokers vs. non-smokers inssurance cost\n"
   ]
  },
  {
   "cell_type": "code",
   "execution_count": 86,
   "metadata": {},
   "outputs": [
    {
     "name": "stdout",
     "output_type": "stream",
     "text": [
      "Average smoker insurance cost is 32050.23\n",
      "Average non-smoker insurance cost is 8434.27\n"
     ]
    }
   ],
   "source": [
    "smoker_total_cost = 0\n",
    "smoker_count = 0\n",
    "non_smoker_total_cost = 0\n",
    "non_smoker_count = 0\n",
    "for num in range(1338):\n",
    "    if smoke_data_set[num] == \"yes\": \n",
    "        smoker_total_cost += float(cost_data_set[num])\n",
    "        smoker_count +=1\n",
    "    else: \n",
    "        non_smoker_total_cost += float(cost_data_set[num])\n",
    "        non_smoker_count += 1\n",
    "\n",
    "average_smok_cost = smoker_total_cost/smoker_count\n",
    "average_non_smokcost = non_smoker_total_cost/non_smoker_count\n",
    "print(\"Average smoker insurance cost is \" + str(round(average_smok_cost,2)))\n",
    "print(\"Average non-smoker insurance cost is \" + str(round(average_non_smokcost,2)))"
   ]
  },
  {
   "cell_type": "markdown",
   "metadata": {},
   "source": [
    "Quitting smoking can sagnificantly reduce insurance cost"
   ]
  },
  {
   "cell_type": "markdown",
   "metadata": {},
   "source": [
    "Does any specific region has higher cost than others?\n"
   ]
  },
  {
   "cell_type": "code",
   "execution_count": 92,
   "metadata": {},
   "outputs": [],
   "source": [
    "sw_list = []\n",
    "nw_list = []\n",
    "se_list = []\n",
    "ne_list = []\n",
    "for num in range(1338):\n",
    "    if reg_data_set[num] == \"southwest\": \n",
    "        sw_list.append(cost_data_set[num])\n",
    "    elif reg_data_set[num] == \"northwest\": \n",
    "        nw_list.append(cost_data_set[num])\n",
    "    elif reg_data_set[num] == \"southeast\": \n",
    "        se_list.append(cost_data_set[num])\n",
    "    else:\n",
    "        ne_list.append(cost_data_set[num])\n",
    "\n",
    "\n",
    "        "
   ]
  },
  {
   "cell_type": "code",
   "execution_count": 93,
   "metadata": {},
   "outputs": [
    {
     "name": "stdout",
     "output_type": "stream",
     "text": [
      "12346.93737729231\n"
     ]
    }
   ],
   "source": [
    "print(average_func(sw_list))"
   ]
  },
  {
   "cell_type": "code",
   "execution_count": 94,
   "metadata": {},
   "outputs": [
    {
     "name": "stdout",
     "output_type": "stream",
     "text": [
      "12417.575373969228\n"
     ]
    }
   ],
   "source": [
    "print(average_func(nw_list))"
   ]
  },
  {
   "cell_type": "code",
   "execution_count": 95,
   "metadata": {},
   "outputs": [
    {
     "name": "stdout",
     "output_type": "stream",
     "text": [
      "14735.411437609895\n"
     ]
    }
   ],
   "source": [
    "print(average_func(se_list))"
   ]
  },
  {
   "cell_type": "code",
   "execution_count": 96,
   "metadata": {},
   "outputs": [
    {
     "name": "stdout",
     "output_type": "stream",
     "text": [
      "13406.3845163858\n"
     ]
    }
   ],
   "source": [
    "print(average_func(ne_list))"
   ]
  },
  {
   "cell_type": "code",
   "execution_count": 98,
   "metadata": {},
   "outputs": [],
   "source": [
    "regions = ['southwest','northwest','southeast','northeast' ]"
   ]
  },
  {
   "cell_type": "code",
   "execution_count": 99,
   "metadata": {},
   "outputs": [
    {
     "data": {
      "text/plain": [
       "<Figure size 1000x500 with 0 Axes>"
      ]
     },
     "metadata": {},
     "output_type": "display_data"
    },
    {
     "data": {
      "image/png": "[encoded data removed]",
      "text/plain": [
       "<Figure size 1000x500 with 1 Axes>"
      ]
     },
     "metadata": {},
     "output_type": "display_data"
    }
   ],
   "source": [
    "values = [round(12346.93737729231), round(12417.575373969228), round(14735.411437609895), round(13406.3845163858)]\n",
    "fig = plt.figure(figsize = (10, 5))\n",
    "plt.bar(regions, values, color ='maroon', width = 0.4)\n",
    "plt.xlabel(\"Regions\")\n",
    "plt.ylabel(\"Average Insurance cost\")\n",
    "plt.title(\"Average insurance cost in different regions\")\n",
    "plt.show()"
   ]
  },
  {
   "cell_type": "markdown",
   "metadata": {},
   "source": [
    "East cost population has higher insurance cost. What are the factors contributing?"
   ]
  },
  {
   "cell_type": "code",
   "execution_count": 104,
   "metadata": {},
   "outputs": [],
   "source": [
    "age_with_ch = []\n",
    "for num in range(1338):\n",
    "    if int(child_data_set[num]) >= 0: \n",
    "        age_with_ch.append(age_data_set[num])\n",
    "        \n"
   ]
  },
  {
   "cell_type": "code",
   "execution_count": 105,
   "metadata": {},
   "outputs": [
    {
     "name": "stdout",
     "output_type": "stream",
     "text": [
      "39.20702541106129\n"
     ]
    }
   ],
   "source": [
    "print(average_func(age_with_ch))"
   ]
  },
  {
   "cell_type": "markdown",
   "metadata": {},
   "source": [
    "The average age for someone who has at least one child in this dataset is 39 year old.\n"
   ]
  },
  {
   "cell_type": "code",
   "execution_count": 106,
   "metadata": {},
   "outputs": [
    {
     "name": "stdout",
     "output_type": "stream",
     "text": [
      "30.663396860986538\n"
     ]
    }
   ],
   "source": [
    "print(average_func(bmi_data_set))"
   ]
  },
  {
   "cell_type": "code",
   "execution_count": 109,
   "metadata": {},
   "outputs": [
    {
     "name": "stdout",
     "output_type": "stream",
     "text": [
      "30.663396860986538\n"
     ]
    }
   ],
   "source": [
    "bmi_with_ch = []\n",
    "for num in range(1338):\n",
    "    if int(child_data_set[num]) >= 0: \n",
    "        bmi_with_ch.append(bmi_data_set[num])\n",
    "print(average_func(bmi_with_ch))"
   ]
  },
  {
   "cell_type": "markdown",
   "metadata": {},
   "source": [
    "The average BMI for someone who has at least one child in this dataset is the same as average BMI. "
   ]
  },
  {
   "cell_type": "code",
   "execution_count": null,
   "metadata": {},
   "outputs": [],
   "source": []
  },
  {
   "cell_type": "code",
   "execution_count": null,
   "metadata": {},
   "outputs": [],
   "source": []
  }
 ],
 "metadata": {
  "kernelspec": {
   "display_name": "Python 3",
   "language": "python",
   "name": "python3"
  },
  "language_info": {
   "codemirror_mode": {
    "name": "ipython",
    "version": 3
   },
   "file_extension": ".py",
   "mimetype": "text/x-python",
   "name": "python",
   "nbconvert_exporter": "python",
   "pygments_lexer": "ipython3",
   "version": "3.7.10"
  }
 },
 "nbformat": 4,
 "nbformat_minor": 4
}
